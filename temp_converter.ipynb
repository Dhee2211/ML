{
  "nbformat": 4,
  "nbformat_minor": 0,
  "metadata": {
    "colab": {
      "name": "Untitled0.ipynb",
      "provenance": [],
      "authorship_tag": "ABX9TyPO+rwls1uEVS8MDe6m9vVz",
      "include_colab_link": true
    },
    "kernelspec": {
      "name": "python3",
      "display_name": "Python 3"
    },
    "language_info": {
      "name": "python"
    }
  },
  "cells": [
    {
      "cell_type": "markdown",
      "metadata": {
        "id": "view-in-github",
        "colab_type": "text"
      },
      "source": [
        "<a href=\"https://colab.research.google.com/github/Dhee2211/ML/blob/main/temp_converter.ipynb\" target=\"_parent\"><img src=\"https://colab.research.google.com/assets/colab-badge.svg\" alt=\"Open In Colab\"/></a>"
      ]
    },
    {
      "cell_type": "code",
      "execution_count": 6,
      "metadata": {
        "colab": {
          "base_uri": "https://localhost:8080/"
        },
        "id": "wnPZ8KBpF5we",
        "outputId": "ea6f36ce-5575-41b8-fbea-0c4342bc3492"
      },
      "outputs": [
        {
          "output_type": "stream",
          "name": "stdout",
          "text": [
            "2.8.0\n"
          ]
        }
      ],
      "source": [
        "#import tensorflow library \n",
        "import tensorflow as tf \n",
        "#importing numpy library\n",
        "import numpy as np \n",
        "import logging \n",
        "logger = tf.get_logger()\n",
        "logger.setLevel(logging.ERROR)\n",
        "\n",
        "#print tensorflow version\n",
        "print(tf.__version__)"
      ]
    },
    {
      "cell_type": "code",
      "source": [
        "#input data is called features in supervised learning \n",
        "#desired output is called labels\n",
        "\n",
        "celsius_input = np.array([-40, -10, 0, 8, 15, 22, 38], dtype=float)\n",
        "fahrenheit_label = np.array([-40, 14, 32, 46, 59, 37, 100], dtype=float)"
      ],
      "metadata": {
        "id": "JGFhYn7tH_pI"
      },
      "execution_count": 7,
      "outputs": []
    },
    {
      "cell_type": "code",
      "source": [
        ""
      ],
      "metadata": {
        "id": "UrbBpI6xK8Fq"
      },
      "execution_count": null,
      "outputs": []
    },
    {
      "cell_type": "code",
      "source": [
        "for index, temp in enumerate(celsius_input):\n",
        "  print(f'{temp} Degrees Celsius = {fahrenheit_label[index]} Degrees Fahrenheit')"
      ],
      "metadata": {
        "colab": {
          "base_uri": "https://localhost:8080/"
        },
        "id": "0xISrTbaJ0tQ",
        "outputId": "beb2114c-ec4c-4868-cc34-d102e7c67274"
      },
      "execution_count": 8,
      "outputs": [
        {
          "output_type": "stream",
          "name": "stdout",
          "text": [
            "-40.0 Degrees Celsius = -40.0 Degrees Fahrenheit\n",
            "-10.0 Degrees Celsius = 14.0 Degrees Fahrenheit\n",
            "0.0 Degrees Celsius = 32.0 Degrees Fahrenheit\n",
            "8.0 Degrees Celsius = 46.0 Degrees Fahrenheit\n",
            "15.0 Degrees Celsius = 59.0 Degrees Fahrenheit\n",
            "22.0 Degrees Celsius = 37.0 Degrees Fahrenheit\n",
            "38.0 Degrees Celsius = 100.0 Degrees Fahrenheit\n"
          ]
        }
      ]
    },
    {
      "cell_type": "code",
      "source": [
        "#create a model \n",
        "IO  = tf.keras.layer.Dense(units=1, input_shape=[1]) \n",
        "# units = 1 means specific number of neurons in the layer "
      ],
      "metadata": {
        "id": "tVsFr_xBK_FX"
      },
      "execution_count": null,
      "outputs": []
    }
  ]
}